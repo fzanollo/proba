{
 "cells": [
  {
   "cell_type": "markdown",
   "metadata": {},
   "source": [
    "Simular 1000 veces el exp de tirar dos veces un dado equilibrado y estimar las prob de\n",
    "- **A** la suma es por lo menos 5\n",
    "- **B** el primer tiro es superior al segundo\n",
    "- **C** el primer tiro es igual a 4"
   ]
  },
  {
   "cell_type": "code",
   "execution_count": 1,
   "metadata": {},
   "outputs": [],
   "source": [
    "set.seed(93411)"
   ]
  },
  {
   "cell_type": "code",
   "execution_count": 2,
   "metadata": {},
   "outputs": [
    {
     "data": {
      "text/html": [
       "0.852"
      ],
      "text/latex": [
       "0.852"
      ],
      "text/markdown": [
       "0.852"
      ],
      "text/plain": [
       "[1] 0.852"
      ]
     },
     "metadata": {},
     "output_type": "display_data"
    }
   ],
   "source": [
    "mean(replicate(1000, sum(sample(1:6, 2, replace = TRUE)))>=5)"
   ]
  },
  {
   "cell_type": "code",
   "execution_count": 3,
   "metadata": {},
   "outputs": [
    {
     "data": {
      "text/html": [
       "0.428"
      ],
      "text/latex": [
       "0.428"
      ],
      "text/markdown": [
       "0.428"
      ],
      "text/plain": [
       "[1] 0.428"
      ]
     },
     "metadata": {},
     "output_type": "display_data"
    }
   ],
   "source": [
    "res = replicate(1000, sample(1:6, 2, replace = TRUE))\n",
    "mean(res[1,]>res[2,])"
   ]
  },
  {
   "cell_type": "code",
   "execution_count": 4,
   "metadata": {},
   "outputs": [
    {
     "data": {
      "text/html": [
       "0.178"
      ],
      "text/latex": [
       "0.178"
      ],
      "text/markdown": [
       "0.178"
      ],
      "text/plain": [
       "[1] 0.178"
      ]
     },
     "metadata": {},
     "output_type": "display_data"
    }
   ],
   "source": [
    "mean(replicate(1000, sample(1:6, 2, replace = TRUE))[1,]==4)"
   ]
  },
  {
   "cell_type": "markdown",
   "metadata": {},
   "source": [
    "#### Extra, ej g práctica 1"
   ]
  },
  {
   "cell_type": "code",
   "execution_count": 5,
   "metadata": {},
   "outputs": [
    {
     "data": {
      "text/html": [
       "0.359"
      ],
      "text/latex": [
       "0.359"
      ],
      "text/markdown": [
       "0.359"
      ],
      "text/plain": [
       "[1] 0.359"
      ]
     },
     "metadata": {},
     "output_type": "display_data"
    }
   ],
   "source": [
    "#P(A n B)\n",
    "res = replicate(1000, sample(1:6, 2, replace = TRUE))\n",
    "mean(res[1,]+res[2,]>=5 & res[1,]>res[2,])"
   ]
  },
  {
   "cell_type": "code",
   "execution_count": 6,
   "metadata": {},
   "outputs": [
    {
     "data": {
      "text/html": [
       "0.497"
      ],
      "text/latex": [
       "0.497"
      ],
      "text/markdown": [
       "0.497"
      ],
      "text/plain": [
       "[1] 0.497"
      ]
     },
     "metadata": {},
     "output_type": "display_data"
    }
   ],
   "source": [
    "#P(B u C)\n",
    "res = replicate(1000, sample(1:6, 2, replace = TRUE))\n",
    "mean(res[1,]>res[2,] | res[1,]==4)"
   ]
  },
  {
   "cell_type": "code",
   "execution_count": 7,
   "metadata": {},
   "outputs": [
    {
     "data": {
      "text/html": [
       "0.451"
      ],
      "text/latex": [
       "0.451"
      ],
      "text/markdown": [
       "0.451"
      ],
      "text/plain": [
       "[1] 0.451"
      ]
     },
     "metadata": {},
     "output_type": "display_data"
    }
   ],
   "source": [
    "#P(A n (B u C))\n",
    "res = replicate(1000, sample(1:6, 2, replace = TRUE))\n",
    "mean(res[1,]+res[2,]>=5 & (res[1,]>res[2,] | res[1,]==4)) "
   ]
  }
 ],
 "metadata": {
  "kernelspec": {
   "display_name": "R",
   "language": "R",
   "name": "ir"
  },
  "language_info": {
   "codemirror_mode": "r",
   "file_extension": ".r",
   "mimetype": "text/x-r-source",
   "name": "R",
   "pygments_lexer": "r",
   "version": "3.4.4"
  }
 },
 "nbformat": 4,
 "nbformat_minor": 4
}
