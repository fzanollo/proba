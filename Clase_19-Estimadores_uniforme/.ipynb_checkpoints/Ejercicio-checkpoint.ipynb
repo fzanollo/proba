{
 "cells": [
  {
   "cell_type": "code",
   "execution_count": 1,
   "metadata": {},
   "outputs": [
    {
     "name": "stdout",
     "output_type": "stream",
     "text": [
      "para cantidad  10 \n",
      "momentos:  1.568 \n",
      "maxima verosimilitud:  1.27 \n",
      "\n",
      "para cantidad  50 \n",
      "momentos:  1.6104 \n",
      "maxima verosimilitud:  1.49 \n",
      "\n",
      "para cantidad  100 \n",
      "momentos:  1.4896 \n",
      "maxima verosimilitud:  1.49 \n",
      "\n",
      "para cantidad  1000 \n",
      "momentos:  1.55526 \n",
      "maxima verosimilitud:  1.5 \n",
      "\n"
     ]
    }
   ],
   "source": [
    "for(cant in c(10,50,100,1000)){\n",
    "    data = read.csv(sprintf(\"datos_id93411_n_%d.csv\", cant))\n",
    "    \n",
    "    cat(\"para cantidad \", cant, \"\\n\")\n",
    "    cat(\"momentos: \", colMeans(data)*2, \"\\n\")\n",
    "    cat(\"maxima verosimilitud: \", max(data), \"\\n\\n\")\n",
    "}"
   ]
  }
 ],
 "metadata": {
  "kernelspec": {
   "display_name": "R",
   "language": "R",
   "name": "ir"
  },
  "language_info": {
   "codemirror_mode": "r",
   "file_extension": ".r",
   "mimetype": "text/x-r-source",
   "name": "R",
   "pygments_lexer": "r",
   "version": "3.4.4"
  }
 },
 "nbformat": 4,
 "nbformat_minor": 4
}
