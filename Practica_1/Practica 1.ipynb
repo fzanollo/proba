{
 "cells": [
  {
   "cell_type": "markdown",
   "metadata": {},
   "source": [
    "## Ejercicio 6\n",
    "Un grupo de 60 alumnos sera subdividido al azar en dos divisiones de 30 alumnos cadauna. Cinco de esos alumnos son muy amigos: Alicia *1*, Beto *2*, Carmen *3*, Diego *5* y Eva *4*.\n",
    "- a)  ¿Cual es la probabilidad de que todos queden en la misma division?\n",
    "- b)  ¿Cual es la probabilidad de que solo quede separado Diego?"
   ]
  },
  {
   "cell_type": "code",
   "execution_count": 1,
   "metadata": {},
   "outputs": [
    {
     "data": {
      "text/html": [
       "0.1074"
      ],
      "text/latex": [
       "0.1074"
      ],
      "text/markdown": [
       "0.1074"
      ],
      "text/plain": [
       "[1] 0.1074"
      ]
     },
     "metadata": {},
     "output_type": "display_data"
    }
   ],
   "source": [
    "# a) q esten todos juntos es (55C25) / (60C30) ??\n",
    "alumnos = (1:60)\n",
    "experiments = replicate(10000, sample(alumnos, 30))\n",
    "\n",
    "todosJuntos = function(exp) all((1:4) %in% exp) | all(!(1:4) %in% exp)\n",
    "\n",
    "mean(apply(experiments, MARGIN = 2, todosJuntos))"
   ]
  },
  {
   "cell_type": "code",
   "execution_count": 2,
   "metadata": {},
   "outputs": [
    {
     "data": {
      "text/html": [
       "0.0608"
      ],
      "text/latex": [
       "0.0608"
      ],
      "text/markdown": [
       "0.0608"
      ],
      "text/plain": [
       "[1] 0.0608"
      ]
     },
     "metadata": {},
     "output_type": "display_data"
    }
   ],
   "source": [
    "# b) solo D separado (55C29) / (60C30) ??\n",
    "alumnos = (1:60)\n",
    "experiments = replicate(10000, sample(alumnos, 30))\n",
    "\n",
    "diegoSolo = function(exp) (!(5 %in% exp) & all((1:4) %in% exp)) | ((5 %in% exp) & all(!(1:4) %in% exp))\n",
    "\n",
    "mean(apply(experiments, MARGIN = 2, diegoSolo))"
   ]
  },
  {
   "cell_type": "markdown",
   "metadata": {},
   "source": [
    "## Ejercicio 11\n",
    "### Dos dados equilibrados, probabilidad que sumen 7 dado que..."
   ]
  },
  {
   "cell_type": "markdown",
   "metadata": {},
   "source": [
    "### a) la suma es impar"
   ]
  },
  {
   "cell_type": "code",
   "execution_count": 3,
   "metadata": {},
   "outputs": [
    {
     "data": {
      "text/html": [
       "0.345043408035534"
      ],
      "text/latex": [
       "0.345043408035534"
      ],
      "text/markdown": [
       "0.345043408035534"
      ],
      "text/plain": [
       "[1] 0.3450434"
      ]
     },
     "metadata": {},
     "output_type": "display_data"
    }
   ],
   "source": [
    "# S7 n Suma impar\n",
    "simDataAB = replicate(10000, { \n",
    "  sumDieRoll = sum(sample(1:6, 2, replace = TRUE))\n",
    "  sumDieRoll %%2 == 1 && sumDieRoll == 7\n",
    "})\n",
    "probAB = mean(simDataAB)\n",
    "\n",
    "# suma impar\n",
    "simDataB = replicate(10000, {\n",
    "  sumDieRoll = sum(sample(1:6, 2, replace = TRUE))\n",
    "  sumDieRoll %%2 == 1\n",
    "})\n",
    "probB = mean(simDataB)\n",
    "\n",
    "# S7 dado que suma impar\n",
    "probAB/probB"
   ]
  },
  {
   "cell_type": "markdown",
   "metadata": {},
   "source": [
    "### b) la suma es mayor a 6"
   ]
  },
  {
   "cell_type": "code",
   "execution_count": 4,
   "metadata": {},
   "outputs": [
    {
     "data": {
      "text/html": [
       "0.279692832764505"
      ],
      "text/latex": [
       "0.279692832764505"
      ],
      "text/markdown": [
       "0.279692832764505"
      ],
      "text/plain": [
       "[1] 0.2796928"
      ]
     },
     "metadata": {},
     "output_type": "display_data"
    }
   ],
   "source": [
    "# S7 n Suma mayor a 6\n",
    "simDataAB = replicate(10000, { \n",
    "  sumDieRoll = sum(sample(1:6, 2, replace = TRUE))\n",
    "  sumDieRoll >6 && sumDieRoll == 7\n",
    "})\n",
    "probAB = mean(simDataAB)\n",
    "\n",
    "# suma mayor a 6\n",
    "simDataB = replicate(10000, {\n",
    "  sumDieRoll = sum(sample(1:6, 2, replace = TRUE))\n",
    "  sumDieRoll >6\n",
    "})\n",
    "probB = mean(simDataB)\n",
    "\n",
    "# S7 dado que suma mayor a 6\n",
    "probAB/probB"
   ]
  },
  {
   "cell_type": "markdown",
   "metadata": {},
   "source": [
    "### c) el segundo dado es par"
   ]
  },
  {
   "cell_type": "code",
   "execution_count": 5,
   "metadata": {},
   "outputs": [
    {
     "data": {
      "text/html": [
       "0.170814933761542"
      ],
      "text/latex": [
       "0.170814933761542"
      ],
      "text/markdown": [
       "0.170814933761542"
      ],
      "text/plain": [
       "[1] 0.1708149"
      ]
     },
     "metadata": {},
     "output_type": "display_data"
    }
   ],
   "source": [
    "# S7 n segundo dado es par\n",
    "simDataAB = replicate(10000, { \n",
    "  dieRoll = sample(1:6, 2, replace = TRUE)\n",
    "  dieRoll[2] %%2==0 && sum(dieRoll) == 7\n",
    "})\n",
    "probAB = mean(simDataAB)\n",
    "\n",
    "# segundo dado es par\n",
    "simDataB = replicate(10000, {\n",
    "  dieRoll = sample(1:6, 2, replace = TRUE)\n",
    "  dieRoll[2] %%2==0\n",
    "})\n",
    "probB = mean(simDataB)\n",
    "\n",
    "# S7 dado que segundo dado es par\n",
    "probAB/probB"
   ]
  },
  {
   "cell_type": "markdown",
   "metadata": {},
   "source": [
    "### d) alguno de los dados es impar"
   ]
  },
  {
   "cell_type": "code",
   "execution_count": 6,
   "metadata": {},
   "outputs": [
    {
     "data": {
      "text/html": [
       "0.223733333333333"
      ],
      "text/latex": [
       "0.223733333333333"
      ],
      "text/markdown": [
       "0.223733333333333"
      ],
      "text/plain": [
       "[1] 0.2237333"
      ]
     },
     "metadata": {},
     "output_type": "display_data"
    }
   ],
   "source": [
    "# S7 n alguno de los dados es impar\n",
    "simDataAB = replicate(10000, { \n",
    "  dieRoll = sample(1:6, 2, replace = TRUE)\n",
    "  (dieRoll[1] %%2==1 || dieRoll[2] %%2==1) && sum(dieRoll) == 7\n",
    "})\n",
    "probAB = mean(simDataAB)\n",
    "\n",
    "# alguno de los dados es impar\n",
    "simDataB = replicate(10000, {\n",
    "  dieRoll = sample(1:6, 2, replace = TRUE)\n",
    "  dieRoll[1] %%2==1 || dieRoll[2] %%2==1\n",
    "})\n",
    "probB = mean(simDataB)\n",
    "\n",
    "# S7 dado que alguno de los dados es impar\n",
    "probAB/probB"
   ]
  },
  {
   "cell_type": "markdown",
   "metadata": {},
   "source": [
    "### e) los dados son iguales"
   ]
  },
  {
   "cell_type": "code",
   "execution_count": 7,
   "metadata": {},
   "outputs": [
    {
     "data": {
      "text/html": [
       "0"
      ],
      "text/latex": [
       "0"
      ],
      "text/markdown": [
       "0"
      ],
      "text/plain": [
       "[1] 0"
      ]
     },
     "metadata": {},
     "output_type": "display_data"
    }
   ],
   "source": [
    "# S7 n los dados son iguales\n",
    "simDataAB = replicate(10000, { \n",
    "  dieRoll = sample(1:6, 2, replace = TRUE)\n",
    "  (dieRoll[1] == dieRoll[2]) && sum(dieRoll) == 7\n",
    "})\n",
    "probAB = mean(simDataAB)\n",
    "\n",
    "# los dados son iguales\n",
    "simDataB = replicate(10000, {\n",
    "  dieRoll = sample(1:6, 2, replace = TRUE)\n",
    "  dieRoll[1] == dieRoll[2]\n",
    "})\n",
    "probB = mean(simDataB)\n",
    "\n",
    "# S7 dado que los dados son iguales\n",
    "probAB/probB"
   ]
  }
 ],
 "metadata": {
  "kernelspec": {
   "display_name": "R",
   "language": "R",
   "name": "ir"
  },
  "language_info": {
   "codemirror_mode": "r",
   "file_extension": ".r",
   "mimetype": "text/x-r-source",
   "name": "R",
   "pygments_lexer": "r",
   "version": "3.4.4"
  }
 },
 "nbformat": 4,
 "nbformat_minor": 4
}
