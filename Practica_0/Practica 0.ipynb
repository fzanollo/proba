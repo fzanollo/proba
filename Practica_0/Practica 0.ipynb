{
 "cells": [
  {
   "cell_type": "markdown",
   "metadata": {},
   "source": [
    "## Ejercicio 1\n",
    "Sea x <- c(1,2,3) \n",
    "y <- c(6,5,4).\n",
    "\n",
    "a) Predecir el resultado de correr cada una de las siguientes lıneas y despues chequearlas respuestas.\n",
    "- x * 2\n",
    "- x * y\n",
    "- x[1] * y[2]\n",
    "- 1/x\n",
    "- (1:10) * x[2]\n",
    "- rep(c(1,1,2), times = 2)"
   ]
  },
  {
   "cell_type": "code",
   "execution_count": 1,
   "metadata": {},
   "outputs": [],
   "source": [
    "x = c(1,2,3)\n",
    "y = c(6,5,4)"
   ]
  },
  {
   "cell_type": "code",
   "execution_count": 2,
   "metadata": {},
   "outputs": [
    {
     "data": {
      "text/html": [
       "<style>\n",
       ".list-inline {list-style: none; margin:0; padding: 0}\n",
       ".list-inline>li {display: inline-block}\n",
       ".list-inline>li:not(:last-child)::after {content: \"\\00b7\"; padding: 0 .5ex}\n",
       "</style>\n",
       "<ol class=list-inline><li>2</li><li>4</li><li>6</li></ol>\n"
      ],
      "text/latex": [
       "\\begin{enumerate*}\n",
       "\\item 2\n",
       "\\item 4\n",
       "\\item 6\n",
       "\\end{enumerate*}\n"
      ],
      "text/markdown": [
       "1. 2\n",
       "2. 4\n",
       "3. 6\n",
       "\n",
       "\n"
      ],
      "text/plain": [
       "[1] 2 4 6"
      ]
     },
     "metadata": {},
     "output_type": "display_data"
    }
   ],
   "source": [
    "x*2"
   ]
  },
  {
   "cell_type": "code",
   "execution_count": 3,
   "metadata": {},
   "outputs": [
    {
     "data": {
      "text/html": [
       "<style>\n",
       ".list-inline {list-style: none; margin:0; padding: 0}\n",
       ".list-inline>li {display: inline-block}\n",
       ".list-inline>li:not(:last-child)::after {content: \"\\00b7\"; padding: 0 .5ex}\n",
       "</style>\n",
       "<ol class=list-inline><li>6</li><li>10</li><li>12</li></ol>\n"
      ],
      "text/latex": [
       "\\begin{enumerate*}\n",
       "\\item 6\n",
       "\\item 10\n",
       "\\item 12\n",
       "\\end{enumerate*}\n"
      ],
      "text/markdown": [
       "1. 6\n",
       "2. 10\n",
       "3. 12\n",
       "\n",
       "\n"
      ],
      "text/plain": [
       "[1]  6 10 12"
      ]
     },
     "metadata": {},
     "output_type": "display_data"
    }
   ],
   "source": [
    "x*y"
   ]
  },
  {
   "cell_type": "code",
   "execution_count": 4,
   "metadata": {},
   "outputs": [
    {
     "data": {
      "text/html": [
       "2"
      ],
      "text/latex": [
       "2"
      ],
      "text/markdown": [
       "2"
      ],
      "text/plain": [
       "[1] 2"
      ]
     },
     "metadata": {},
     "output_type": "display_data"
    }
   ],
   "source": [
    "x[1]*x[2]"
   ]
  },
  {
   "cell_type": "code",
   "execution_count": 5,
   "metadata": {},
   "outputs": [
    {
     "data": {
      "text/html": [
       "<style>\n",
       ".list-inline {list-style: none; margin:0; padding: 0}\n",
       ".list-inline>li {display: inline-block}\n",
       ".list-inline>li:not(:last-child)::after {content: \"\\00b7\"; padding: 0 .5ex}\n",
       "</style>\n",
       "<ol class=list-inline><li>1</li><li>0.5</li><li>0.333333333333333</li></ol>\n"
      ],
      "text/latex": [
       "\\begin{enumerate*}\n",
       "\\item 1\n",
       "\\item 0.5\n",
       "\\item 0.333333333333333\n",
       "\\end{enumerate*}\n"
      ],
      "text/markdown": [
       "1. 1\n",
       "2. 0.5\n",
       "3. 0.333333333333333\n",
       "\n",
       "\n"
      ],
      "text/plain": [
       "[1] 1.0000000 0.5000000 0.3333333"
      ]
     },
     "metadata": {},
     "output_type": "display_data"
    }
   ],
   "source": [
    "1/x"
   ]
  },
  {
   "cell_type": "code",
   "execution_count": 6,
   "metadata": {},
   "outputs": [
    {
     "data": {
      "text/html": [
       "<style>\n",
       ".list-inline {list-style: none; margin:0; padding: 0}\n",
       ".list-inline>li {display: inline-block}\n",
       ".list-inline>li:not(:last-child)::after {content: \"\\00b7\"; padding: 0 .5ex}\n",
       "</style>\n",
       "<ol class=list-inline><li>2</li><li>4</li><li>6</li><li>8</li><li>10</li><li>12</li><li>14</li><li>16</li><li>18</li><li>20</li></ol>\n"
      ],
      "text/latex": [
       "\\begin{enumerate*}\n",
       "\\item 2\n",
       "\\item 4\n",
       "\\item 6\n",
       "\\item 8\n",
       "\\item 10\n",
       "\\item 12\n",
       "\\item 14\n",
       "\\item 16\n",
       "\\item 18\n",
       "\\item 20\n",
       "\\end{enumerate*}\n"
      ],
      "text/markdown": [
       "1. 2\n",
       "2. 4\n",
       "3. 6\n",
       "4. 8\n",
       "5. 10\n",
       "6. 12\n",
       "7. 14\n",
       "8. 16\n",
       "9. 18\n",
       "10. 20\n",
       "\n",
       "\n"
      ],
      "text/plain": [
       " [1]  2  4  6  8 10 12 14 16 18 20"
      ]
     },
     "metadata": {},
     "output_type": "display_data"
    }
   ],
   "source": [
    "(1:10) * x[2]"
   ]
  },
  {
   "cell_type": "code",
   "execution_count": 7,
   "metadata": {},
   "outputs": [
    {
     "data": {
      "text/html": [
       "<style>\n",
       ".list-inline {list-style: none; margin:0; padding: 0}\n",
       ".list-inline>li {display: inline-block}\n",
       ".list-inline>li:not(:last-child)::after {content: \"\\00b7\"; padding: 0 .5ex}\n",
       "</style>\n",
       "<ol class=list-inline><li>1</li><li>1</li><li>2</li><li>1</li><li>1</li><li>2</li></ol>\n"
      ],
      "text/latex": [
       "\\begin{enumerate*}\n",
       "\\item 1\n",
       "\\item 1\n",
       "\\item 2\n",
       "\\item 1\n",
       "\\item 1\n",
       "\\item 2\n",
       "\\end{enumerate*}\n"
      ],
      "text/markdown": [
       "1. 1\n",
       "2. 1\n",
       "3. 2\n",
       "4. 1\n",
       "5. 1\n",
       "6. 2\n",
       "\n",
       "\n"
      ],
      "text/plain": [
       "[1] 1 1 2 1 1 2"
      ]
     },
     "metadata": {},
     "output_type": "display_data"
    }
   ],
   "source": [
    "rep(c(1,1,2), times = 2)"
   ]
  },
  {
   "cell_type": "markdown",
   "metadata": {},
   "source": [
    "b) ¿Que ocurre si se multiplican 2 vectores de distinta longitud? Tira error"
   ]
  },
  {
   "cell_type": "markdown",
   "metadata": {},
   "source": [
    "## Ejercicio 2"
   ]
  },
  {
   "cell_type": "code",
   "execution_count": 8,
   "metadata": {},
   "outputs": [
    {
     "data": {
      "text/html": [
       "<style>\n",
       ".list-inline {list-style: none; margin:0; padding: 0}\n",
       ".list-inline>li {display: inline-block}\n",
       ".list-inline>li:not(:last-child)::after {content: \"\\00b7\"; padding: 0 .5ex}\n",
       "</style>\n",
       "<ol class=list-inline><li>'A'</li><li>'A'</li><li>'A'</li><li>'A'</li><li>'A'</li><li>'A'</li><li>'A'</li><li>'A'</li><li>'A'</li><li>'A'</li><li>'A'</li><li>'A'</li><li>'A'</li><li>'A'</li><li>'A'</li><li>'A'</li><li>'A'</li><li>'A'</li><li>'A'</li><li>'A'</li><li>'B'</li><li>'B'</li><li>'B'</li><li>'B'</li><li>'B'</li><li>'B'</li><li>'B'</li><li>'B'</li><li>'B'</li><li>'B'</li><li>'B'</li><li>'B'</li><li>'B'</li><li>'B'</li><li>'B'</li><li>'B'</li><li>'B'</li><li>'B'</li><li>'C'</li><li>'C'</li><li>'C'</li><li>'C'</li><li>'C'</li><li>'C'</li><li>'C'</li><li>'C'</li><li>'C'</li><li>'C'</li><li>'C'</li><li>'C'</li><li>'C'</li><li>'C'</li><li>'C'</li><li>'C'</li><li>'C'</li><li>'C'</li><li>'C'</li><li>'C'</li><li>'C'</li><li>'C'</li></ol>\n"
      ],
      "text/latex": [
       "\\begin{enumerate*}\n",
       "\\item 'A'\n",
       "\\item 'A'\n",
       "\\item 'A'\n",
       "\\item 'A'\n",
       "\\item 'A'\n",
       "\\item 'A'\n",
       "\\item 'A'\n",
       "\\item 'A'\n",
       "\\item 'A'\n",
       "\\item 'A'\n",
       "\\item 'A'\n",
       "\\item 'A'\n",
       "\\item 'A'\n",
       "\\item 'A'\n",
       "\\item 'A'\n",
       "\\item 'A'\n",
       "\\item 'A'\n",
       "\\item 'A'\n",
       "\\item 'A'\n",
       "\\item 'A'\n",
       "\\item 'B'\n",
       "\\item 'B'\n",
       "\\item 'B'\n",
       "\\item 'B'\n",
       "\\item 'B'\n",
       "\\item 'B'\n",
       "\\item 'B'\n",
       "\\item 'B'\n",
       "\\item 'B'\n",
       "\\item 'B'\n",
       "\\item 'B'\n",
       "\\item 'B'\n",
       "\\item 'B'\n",
       "\\item 'B'\n",
       "\\item 'B'\n",
       "\\item 'B'\n",
       "\\item 'B'\n",
       "\\item 'B'\n",
       "\\item 'C'\n",
       "\\item 'C'\n",
       "\\item 'C'\n",
       "\\item 'C'\n",
       "\\item 'C'\n",
       "\\item 'C'\n",
       "\\item 'C'\n",
       "\\item 'C'\n",
       "\\item 'C'\n",
       "\\item 'C'\n",
       "\\item 'C'\n",
       "\\item 'C'\n",
       "\\item 'C'\n",
       "\\item 'C'\n",
       "\\item 'C'\n",
       "\\item 'C'\n",
       "\\item 'C'\n",
       "\\item 'C'\n",
       "\\item 'C'\n",
       "\\item 'C'\n",
       "\\item 'C'\n",
       "\\item 'C'\n",
       "\\end{enumerate*}\n"
      ],
      "text/markdown": [
       "1. 'A'\n",
       "2. 'A'\n",
       "3. 'A'\n",
       "4. 'A'\n",
       "5. 'A'\n",
       "6. 'A'\n",
       "7. 'A'\n",
       "8. 'A'\n",
       "9. 'A'\n",
       "10. 'A'\n",
       "11. 'A'\n",
       "12. 'A'\n",
       "13. 'A'\n",
       "14. 'A'\n",
       "15. 'A'\n",
       "16. 'A'\n",
       "17. 'A'\n",
       "18. 'A'\n",
       "19. 'A'\n",
       "20. 'A'\n",
       "21. 'B'\n",
       "22. 'B'\n",
       "23. 'B'\n",
       "24. 'B'\n",
       "25. 'B'\n",
       "26. 'B'\n",
       "27. 'B'\n",
       "28. 'B'\n",
       "29. 'B'\n",
       "30. 'B'\n",
       "31. 'B'\n",
       "32. 'B'\n",
       "33. 'B'\n",
       "34. 'B'\n",
       "35. 'B'\n",
       "36. 'B'\n",
       "37. 'B'\n",
       "38. 'B'\n",
       "39. 'C'\n",
       "40. 'C'\n",
       "41. 'C'\n",
       "42. 'C'\n",
       "43. 'C'\n",
       "44. 'C'\n",
       "45. 'C'\n",
       "46. 'C'\n",
       "47. 'C'\n",
       "48. 'C'\n",
       "49. 'C'\n",
       "50. 'C'\n",
       "51. 'C'\n",
       "52. 'C'\n",
       "53. 'C'\n",
       "54. 'C'\n",
       "55. 'C'\n",
       "56. 'C'\n",
       "57. 'C'\n",
       "58. 'C'\n",
       "59. 'C'\n",
       "60. 'C'\n",
       "\n",
       "\n"
      ],
      "text/plain": [
       " [1] \"A\" \"A\" \"A\" \"A\" \"A\" \"A\" \"A\" \"A\" \"A\" \"A\" \"A\" \"A\" \"A\" \"A\" \"A\" \"A\" \"A\" \"A\" \"A\"\n",
       "[20] \"A\" \"B\" \"B\" \"B\" \"B\" \"B\" \"B\" \"B\" \"B\" \"B\" \"B\" \"B\" \"B\" \"B\" \"B\" \"B\" \"B\" \"B\" \"B\"\n",
       "[39] \"C\" \"C\" \"C\" \"C\" \"C\" \"C\" \"C\" \"C\" \"C\" \"C\" \"C\" \"C\" \"C\" \"C\" \"C\" \"C\" \"C\" \"C\" \"C\"\n",
       "[58] \"C\" \"C\" \"C\""
      ]
     },
     "metadata": {},
     "output_type": "display_data"
    }
   ],
   "source": [
    "# a) \n",
    "tratamiento = c(rep('A', times=20), rep('B', times=18), rep('C', times=22))\n",
    "tratamiento\n",
    "# hay una forma mas copada de armarlo?"
   ]
  },
  {
   "cell_type": "code",
   "execution_count": 9,
   "metadata": {},
   "outputs": [
    {
     "data": {
      "text/html": [
       "<style>\n",
       ".list-inline {list-style: none; margin:0; padding: 0}\n",
       ".list-inline>li {display: inline-block}\n",
       ".list-inline>li:not(:last-child)::after {content: \"\\00b7\"; padding: 0 .5ex}\n",
       "</style>\n",
       "<ol class=list-inline><li>5</li><li>10</li><li>15</li><li>20</li><li>25</li><li>30</li><li>35</li><li>40</li><li>45</li><li>50</li><li>55</li><li>60</li><li>65</li><li>70</li><li>75</li><li>80</li><li>85</li><li>90</li><li>95</li><li>100</li></ol>\n"
      ],
      "text/latex": [
       "\\begin{enumerate*}\n",
       "\\item 5\n",
       "\\item 10\n",
       "\\item 15\n",
       "\\item 20\n",
       "\\item 25\n",
       "\\item 30\n",
       "\\item 35\n",
       "\\item 40\n",
       "\\item 45\n",
       "\\item 50\n",
       "\\item 55\n",
       "\\item 60\n",
       "\\item 65\n",
       "\\item 70\n",
       "\\item 75\n",
       "\\item 80\n",
       "\\item 85\n",
       "\\item 90\n",
       "\\item 95\n",
       "\\item 100\n",
       "\\end{enumerate*}\n"
      ],
      "text/markdown": [
       "1. 5\n",
       "2. 10\n",
       "3. 15\n",
       "4. 20\n",
       "5. 25\n",
       "6. 30\n",
       "7. 35\n",
       "8. 40\n",
       "9. 45\n",
       "10. 50\n",
       "11. 55\n",
       "12. 60\n",
       "13. 65\n",
       "14. 70\n",
       "15. 75\n",
       "16. 80\n",
       "17. 85\n",
       "18. 90\n",
       "19. 95\n",
       "20. 100\n",
       "\n",
       "\n"
      ],
      "text/plain": [
       " [1]   5  10  15  20  25  30  35  40  45  50  55  60  65  70  75  80  85  90  95\n",
       "[20] 100"
      ]
     },
     "metadata": {},
     "output_type": "display_data"
    }
   ],
   "source": [
    "# b)\n",
    "J = seq(5, 100, by=5)\n",
    "J"
   ]
  },
  {
   "cell_type": "markdown",
   "metadata": {},
   "source": [
    "## Ejercicio 3"
   ]
  },
  {
   "cell_type": "code",
   "execution_count": 10,
   "metadata": {},
   "outputs": [],
   "source": [
    "q = c(3,0,1,6)\n",
    "r = c(1,0,2,4)"
   ]
  },
  {
   "cell_type": "code",
   "execution_count": 11,
   "metadata": {},
   "outputs": [
    {
     "data": {
      "text/html": [
       "<table>\n",
       "<caption>A matrix: 1 × 1 of type dbl</caption>\n",
       "<tbody>\n",
       "\t<tr><td>29</td></tr>\n",
       "</tbody>\n",
       "</table>\n"
      ],
      "text/latex": [
       "A matrix: 1 × 1 of type dbl\n",
       "\\begin{tabular}{l}\n",
       "\t 29\\\\\n",
       "\\end{tabular}\n"
      ],
      "text/markdown": [
       "\n",
       "A matrix: 1 × 1 of type dbl\n",
       "\n",
       "| 29 |\n",
       "\n"
      ],
      "text/plain": [
       "     [,1]\n",
       "[1,] 29  "
      ]
     },
     "metadata": {},
     "output_type": "display_data"
    }
   ],
   "source": [
    "#a)\n",
    "q %*% r"
   ]
  },
  {
   "cell_type": "code",
   "execution_count": 12,
   "metadata": {},
   "outputs": [],
   "source": [
    "#b y c)\n",
    "a = rbind(q,r)\n",
    "b = rbind(q,r)"
   ]
  },
  {
   "cell_type": "code",
   "execution_count": 13,
   "metadata": {},
   "outputs": [
    {
     "data": {
      "text/html": [
       "<table>\n",
       "<caption>A matrix: 2 × 4 of type dbl</caption>\n",
       "<tbody>\n",
       "\t<tr><th scope=row>q</th><td>9</td><td>0</td><td>1</td><td>36</td></tr>\n",
       "\t<tr><th scope=row>r</th><td>1</td><td>0</td><td>4</td><td>16</td></tr>\n",
       "</tbody>\n",
       "</table>\n"
      ],
      "text/latex": [
       "A matrix: 2 × 4 of type dbl\n",
       "\\begin{tabular}{r|llll}\n",
       "\tq & 9 & 0 & 1 & 36\\\\\n",
       "\tr & 1 & 0 & 4 & 16\\\\\n",
       "\\end{tabular}\n"
      ],
      "text/markdown": [
       "\n",
       "A matrix: 2 × 4 of type dbl\n",
       "\n",
       "| q | 9 | 0 | 1 | 36 |\n",
       "| r | 1 | 0 | 4 | 16 |\n",
       "\n"
      ],
      "text/plain": [
       "  [,1] [,2] [,3] [,4]\n",
       "q 9    0    1    36  \n",
       "r 1    0    4    16  "
      ]
     },
     "metadata": {},
     "output_type": "display_data"
    }
   ],
   "source": [
    "#d)\n",
    "a*b"
   ]
  },
  {
   "cell_type": "code",
   "execution_count": 14,
   "metadata": {},
   "outputs": [],
   "source": [
    "#e)\n",
    "# como lo hago? busque pero sin entender nada"
   ]
  },
  {
   "cell_type": "code",
   "execution_count": 15,
   "metadata": {},
   "outputs": [
    {
     "data": {
      "text/html": [
       "<table>\n",
       "<caption>A matrix: 2 × 4 of type dbl</caption>\n",
       "<tbody>\n",
       "\t<tr><th scope=row>q</th><td>3</td><td>0</td><td>1</td><td>6</td></tr>\n",
       "\t<tr><th scope=row>r</th><td>1</td><td>0</td><td>2</td><td>4</td></tr>\n",
       "</tbody>\n",
       "</table>\n"
      ],
      "text/latex": [
       "A matrix: 2 × 4 of type dbl\n",
       "\\begin{tabular}{r|llll}\n",
       "\tq & 3 & 0 & 1 & 6\\\\\n",
       "\tr & 1 & 0 & 2 & 4\\\\\n",
       "\\end{tabular}\n"
      ],
      "text/markdown": [
       "\n",
       "A matrix: 2 × 4 of type dbl\n",
       "\n",
       "| q | 3 | 0 | 1 | 6 |\n",
       "| r | 1 | 0 | 2 | 4 |\n",
       "\n"
      ],
      "text/plain": [
       "  [,1] [,2] [,3] [,4]\n",
       "q 3    0    1    6   \n",
       "r 1    0    2    4   "
      ]
     },
     "metadata": {},
     "output_type": "display_data"
    },
    {
     "data": {
      "text/html": [
       "<table>\n",
       "<caption>A matrix: 2 × 4 of type dbl</caption>\n",
       "<tbody>\n",
       "\t<tr><th scope=row>q</th><td>1</td><td>0</td><td>1</td><td>6</td></tr>\n",
       "\t<tr><th scope=row>r</th><td>1</td><td>0</td><td>2</td><td>4</td></tr>\n",
       "</tbody>\n",
       "</table>\n"
      ],
      "text/latex": [
       "A matrix: 2 × 4 of type dbl\n",
       "\\begin{tabular}{r|llll}\n",
       "\tq & 1 & 0 & 1 & 6\\\\\n",
       "\tr & 1 & 0 & 2 & 4\\\\\n",
       "\\end{tabular}\n"
      ],
      "text/markdown": [
       "\n",
       "A matrix: 2 × 4 of type dbl\n",
       "\n",
       "| q | 1 | 0 | 1 | 6 |\n",
       "| r | 1 | 0 | 2 | 4 |\n",
       "\n"
      ],
      "text/plain": [
       "  [,1] [,2] [,3] [,4]\n",
       "q 1    0    1    6   \n",
       "r 1    0    2    4   "
      ]
     },
     "metadata": {},
     "output_type": "display_data"
    }
   ],
   "source": [
    "#f)\n",
    "a\n",
    "a[,1]=c(1,1)\n",
    "a"
   ]
  },
  {
   "cell_type": "code",
   "execution_count": 16,
   "metadata": {},
   "outputs": [
    {
     "data": {
      "text/html": [
       "<style>\n",
       ".dl-inline {width: auto; margin:0; padding: 0}\n",
       ".dl-inline>dt, .dl-inline>dd {float: none; width: auto; display: inline-block}\n",
       ".dl-inline>dt::after {content: \":\\0020\"; padding-right: .5ex}\n",
       ".dl-inline>dt:not(:first-of-type) {padding-left: .5ex}\n",
       "</style><dl class=dl-inline><dt>q</dt><dd>0</dd><dt>r</dt><dd>0</dd></dl>\n"
      ],
      "text/latex": [
       "\\begin{description*}\n",
       "\\item[q] 0\n",
       "\\item[r] 0\n",
       "\\end{description*}\n"
      ],
      "text/markdown": [
       "q\n",
       ":   0r\n",
       ":   0\n",
       "\n"
      ],
      "text/plain": [
       "q r \n",
       "0 0 "
      ]
     },
     "metadata": {},
     "output_type": "display_data"
    }
   ],
   "source": [
    "#g)\n",
    "b[,2]"
   ]
  },
  {
   "cell_type": "markdown",
   "metadata": {},
   "source": [
    "## Ejercicio 4"
   ]
  },
  {
   "cell_type": "code",
   "execution_count": 17,
   "metadata": {},
   "outputs": [
    {
     "data": {
      "text/html": [
       "338350"
      ],
      "text/latex": [
       "338350"
      ],
      "text/markdown": [
       "338350"
      ],
      "text/plain": [
       "[1] 338350"
      ]
     },
     "metadata": {},
     "output_type": "display_data"
    }
   ],
   "source": [
    "sum((1:100)^2)"
   ]
  },
  {
   "cell_type": "markdown",
   "metadata": {},
   "source": [
    "## Ejercicio 5"
   ]
  },
  {
   "cell_type": "code",
   "execution_count": 18,
   "metadata": {},
   "outputs": [
    {
     "name": "stdout",
     "output_type": "stream",
     "text": [
      "'data.frame':\t32 obs. of  11 variables:\n",
      " $ mpg : num  21 21 22.8 21.4 18.7 18.1 14.3 24.4 22.8 19.2 ...\n",
      " $ cyl : num  6 6 4 6 8 6 8 4 4 6 ...\n",
      " $ disp: num  160 160 108 258 360 ...\n",
      " $ hp  : num  110 110 93 110 175 105 245 62 95 123 ...\n",
      " $ drat: num  3.9 3.9 3.85 3.08 3.15 2.76 3.21 3.69 3.92 3.92 ...\n",
      " $ wt  : num  2.62 2.88 2.32 3.21 3.44 ...\n",
      " $ qsec: num  16.5 17 18.6 19.4 17 ...\n",
      " $ vs  : num  0 0 1 1 0 1 0 1 1 1 ...\n",
      " $ am  : num  1 1 1 0 0 0 0 0 0 0 ...\n",
      " $ gear: num  4 4 4 3 3 3 3 4 4 4 ...\n",
      " $ carb: num  4 4 1 1 2 1 4 2 2 4 ...\n"
     ]
    }
   ],
   "source": [
    "str(mtcars)"
   ]
  },
  {
   "cell_type": "code",
   "execution_count": 19,
   "metadata": {},
   "outputs": [
    {
     "data": {
      "text/html": [
       "<style>\n",
       ".list-inline {list-style: none; margin:0; padding: 0}\n",
       ".list-inline>li {display: inline-block}\n",
       ".list-inline>li:not(:last-child)::after {content: \"\\00b7\"; padding: 0 .5ex}\n",
       "</style>\n",
       "<ol class=list-inline><li>'Mazda RX4'</li><li>'Mazda RX4 Wag'</li><li>'Datsun 710'</li><li>'Merc 240D'</li><li>'Merc 230'</li><li>'Merc 280'</li><li>'Merc 280C'</li><li>'Fiat 128'</li><li>'Honda Civic'</li><li>'Toyota Corolla'</li><li>'Fiat X1-9'</li><li>'Volvo 142E'</li></ol>\n"
      ],
      "text/latex": [
       "\\begin{enumerate*}\n",
       "\\item 'Mazda RX4'\n",
       "\\item 'Mazda RX4 Wag'\n",
       "\\item 'Datsun 710'\n",
       "\\item 'Merc 240D'\n",
       "\\item 'Merc 230'\n",
       "\\item 'Merc 280'\n",
       "\\item 'Merc 280C'\n",
       "\\item 'Fiat 128'\n",
       "\\item 'Honda Civic'\n",
       "\\item 'Toyota Corolla'\n",
       "\\item 'Fiat X1-9'\n",
       "\\item 'Volvo 142E'\n",
       "\\end{enumerate*}\n"
      ],
      "text/markdown": [
       "1. 'Mazda RX4'\n",
       "2. 'Mazda RX4 Wag'\n",
       "3. 'Datsun 710'\n",
       "4. 'Merc 240D'\n",
       "5. 'Merc 230'\n",
       "6. 'Merc 280'\n",
       "7. 'Merc 280C'\n",
       "8. 'Fiat 128'\n",
       "9. 'Honda Civic'\n",
       "10. 'Toyota Corolla'\n",
       "11. 'Fiat X1-9'\n",
       "12. 'Volvo 142E'\n",
       "\n",
       "\n"
      ],
      "text/plain": [
       " [1] \"Mazda RX4\"      \"Mazda RX4 Wag\"  \"Datsun 710\"     \"Merc 240D\"     \n",
       " [5] \"Merc 230\"       \"Merc 280\"       \"Merc 280C\"      \"Fiat 128\"      \n",
       " [9] \"Honda Civic\"    \"Toyota Corolla\" \"Fiat X1-9\"      \"Volvo 142E\"    "
      ]
     },
     "metadata": {},
     "output_type": "display_data"
    }
   ],
   "source": [
    "#a) velocidades == forward gears\n",
    "rownames(mtcars[mtcars$\"gear\" == 4,])"
   ]
  },
  {
   "cell_type": "code",
   "execution_count": 20,
   "metadata": {},
   "outputs": [
    {
     "data": {
      "text/html": [
       "<style>\n",
       ".list-inline {list-style: none; margin:0; padding: 0}\n",
       ".list-inline>li {display: inline-block}\n",
       ".list-inline>li:not(:last-child)::after {content: \"\\00b7\"; padding: 0 .5ex}\n",
       "</style>\n",
       "<ol class=list-inline><li>'Mazda RX4'</li><li>'Mazda RX4 Wag'</li><li>'Hornet 4 Drive'</li></ol>\n"
      ],
      "text/latex": [
       "\\begin{enumerate*}\n",
       "\\item 'Mazda RX4'\n",
       "\\item 'Mazda RX4 Wag'\n",
       "\\item 'Hornet 4 Drive'\n",
       "\\end{enumerate*}\n"
      ],
      "text/markdown": [
       "1. 'Mazda RX4'\n",
       "2. 'Mazda RX4 Wag'\n",
       "3. 'Hornet 4 Drive'\n",
       "\n",
       "\n"
      ],
      "text/plain": [
       "[1] \"Mazda RX4\"      \"Mazda RX4 Wag\"  \"Hornet 4 Drive\""
      ]
     },
     "metadata": {},
     "output_type": "display_data"
    }
   ],
   "source": [
    "#b)\n",
    "rownames(mtcars[mtcars$disp > 150 & mtcars$mpg > 20,])"
   ]
  },
  {
   "cell_type": "code",
   "execution_count": 21,
   "metadata": {},
   "outputs": [
    {
     "data": {
      "text/html": [
       "<style>\n",
       ".list-inline {list-style: none; margin:0; padding: 0}\n",
       ".list-inline>li {display: inline-block}\n",
       ".list-inline>li:not(:last-child)::after {content: \"\\00b7\"; padding: 0 .5ex}\n",
       "</style>\n",
       "<ol class=list-inline><li>'Mazda RX4'</li><li>'Mazda RX4 Wag'</li><li>'Datsun 710'</li><li>'Merc 240D'</li><li>'Merc 230'</li><li>'Merc 280'</li><li>'Merc 280C'</li><li>'Fiat 128'</li><li>'Honda Civic'</li><li>'Toyota Corolla'</li><li>'Fiat X1-9'</li><li>'Porsche 914-2'</li><li>'Lotus Europa'</li><li>'Ford Pantera L'</li><li>'Ferrari Dino'</li><li>'Maserati Bora'</li><li>'Volvo 142E'</li></ol>\n"
      ],
      "text/latex": [
       "\\begin{enumerate*}\n",
       "\\item 'Mazda RX4'\n",
       "\\item 'Mazda RX4 Wag'\n",
       "\\item 'Datsun 710'\n",
       "\\item 'Merc 240D'\n",
       "\\item 'Merc 230'\n",
       "\\item 'Merc 280'\n",
       "\\item 'Merc 280C'\n",
       "\\item 'Fiat 128'\n",
       "\\item 'Honda Civic'\n",
       "\\item 'Toyota Corolla'\n",
       "\\item 'Fiat X1-9'\n",
       "\\item 'Porsche 914-2'\n",
       "\\item 'Lotus Europa'\n",
       "\\item 'Ford Pantera L'\n",
       "\\item 'Ferrari Dino'\n",
       "\\item 'Maserati Bora'\n",
       "\\item 'Volvo 142E'\n",
       "\\end{enumerate*}\n"
      ],
      "text/markdown": [
       "1. 'Mazda RX4'\n",
       "2. 'Mazda RX4 Wag'\n",
       "3. 'Datsun 710'\n",
       "4. 'Merc 240D'\n",
       "5. 'Merc 230'\n",
       "6. 'Merc 280'\n",
       "7. 'Merc 280C'\n",
       "8. 'Fiat 128'\n",
       "9. 'Honda Civic'\n",
       "10. 'Toyota Corolla'\n",
       "11. 'Fiat X1-9'\n",
       "12. 'Porsche 914-2'\n",
       "13. 'Lotus Europa'\n",
       "14. 'Ford Pantera L'\n",
       "15. 'Ferrari Dino'\n",
       "16. 'Maserati Bora'\n",
       "17. 'Volvo 142E'\n",
       "\n",
       "\n"
      ],
      "text/plain": [
       " [1] \"Mazda RX4\"      \"Mazda RX4 Wag\"  \"Datsun 710\"     \"Merc 240D\"     \n",
       " [5] \"Merc 230\"       \"Merc 280\"       \"Merc 280C\"      \"Fiat 128\"      \n",
       " [9] \"Honda Civic\"    \"Toyota Corolla\" \"Fiat X1-9\"      \"Porsche 914-2\" \n",
       "[13] \"Lotus Europa\"   \"Ford Pantera L\" \"Ferrari Dino\"   \"Maserati Bora\" \n",
       "[17] \"Volvo 142E\"    "
      ]
     },
     "metadata": {},
     "output_type": "display_data"
    }
   ],
   "source": [
    "#c)\n",
    "rownames(mtcars[mtcars$\"gear\" == 4|mtcars$\"am\"==1,])"
   ]
  },
  {
   "cell_type": "code",
   "execution_count": 22,
   "metadata": {},
   "outputs": [
    {
     "data": {
      "text/html": [
       "22.4"
      ],
      "text/latex": [
       "22.4"
      ],
      "text/markdown": [
       "22.4"
      ],
      "text/plain": [
       "[1] 22.4"
      ]
     },
     "metadata": {},
     "output_type": "display_data"
    }
   ],
   "source": [
    "#d)\n",
    "mean(mtcars[mtcars$\"carb\"==2,]$\"mpg\")\n",
    "# media == mean no? siempre me los confundo"
   ]
  },
  {
   "cell_type": "markdown",
   "metadata": {},
   "source": [
    "## Ejercicio 6"
   ]
  },
  {
   "cell_type": "code",
   "execution_count": 23,
   "metadata": {},
   "outputs": [],
   "source": [
    "arbolado = read.csv(\"http://cdn.buenosaires.gob.ar/datosabiertos/datasets/arbolado-en-espacios-verdes/arbolado-en-espacios-verdes.csv\")"
   ]
  },
  {
   "cell_type": "code",
   "execution_count": 24,
   "metadata": {},
   "outputs": [
    {
     "name": "stdout",
     "output_type": "stream",
     "text": [
      "'data.frame':\t51502 obs. of  17 variables:\n",
      " $ long      : num  -58.5 -58.5 -58.5 -58.5 -58.5 ...\n",
      " $ lat       : num  -34.6 -34.6 -34.6 -34.6 -34.6 ...\n",
      " $ id_arbol  : int  1 2 3 4 5 6 7 8 9 10 ...\n",
      " $ altura_tot: int  6 6 6 17 17 17 17 26 26 26 ...\n",
      " $ diametro  : int  35 35 35 50 50 50 50 40 40 40 ...\n",
      " $ inclinacio: int  0 0 0 0 0 0 0 0 0 0 ...\n",
      " $ id_especie: int  53 53 53 65 65 65 65 42 42 42 ...\n",
      " $ nombre_com: Factor w/ 337 levels \"Abedul blanco\",..: 336 336 336 248 248 248 248 87 87 87 ...\n",
      " $ nombre_cie: Factor w/ 358 levels \"Abutilon grandifolium\",..: 355 355 355 240 240 240 240 59 59 59 ...\n",
      " $ tipo_folla: Factor w/ 10 levels \"Árbol Conífero Caducifolio\",..: 10 10 10 3 3 3 3 3 3 3 ...\n",
      " $ espacio_ve: Factor w/ 583 levels \"1 DE MARZO DE 1948\",..: 45 45 45 45 45 45 45 45 45 45 ...\n",
      " $ ubicacion : Factor w/ 775 levels \"\",\"20 DE SEPTIEMBRE - DON PEDRO DE MENDOZA, AV. - ARZOBISPO ESPINOSA - CABOTO\",..: 281 281 281 281 281 281 281 281 281 281 ...\n",
      " $ nombre_fam: Factor w/ 70 levels \"Aceráceas\",\"Adoxaceae\",..: 9 9 9 27 27 27 27 12 12 12 ...\n",
      " $ nombre_gen: Factor w/ 173 levels \"Abutilon\",\"Acacia\",..: 172 172 172 118 118 118 118 30 30 30 ...\n",
      " $ origen    : Factor w/ 3 levels \"Exótico\",\"Nativo/Autóctono\",..: 1 1 1 2 2 2 2 1 1 1 ...\n",
      " $ coord_x   : num  98692 98693 98693 98640 98641 ...\n",
      " $ coord_y   : num  98253 98250 98245 98303 98300 ...\n"
     ]
    }
   ],
   "source": [
    "#a) \n",
    "str(arbolado)"
   ]
  },
  {
   "cell_type": "code",
   "execution_count": 25,
   "metadata": {},
   "outputs": [
    {
     "data": {
      "text/html": [
       "12.1671003067842"
      ],
      "text/latex": [
       "12.1671003067842"
      ],
      "text/markdown": [
       "12.1671003067842"
      ],
      "text/plain": [
       "[1] 12.1671"
      ]
     },
     "metadata": {},
     "output_type": "display_data"
    }
   ],
   "source": [
    "#b)\n",
    "mean(arbolado$\"altura_tot\")"
   ]
  },
  {
   "cell_type": "code",
   "execution_count": 26,
   "metadata": {},
   "outputs": [
    {
     "data": {
      "text/html": [
       "17"
      ],
      "text/latex": [
       "17"
      ],
      "text/markdown": [
       "17"
      ],
      "text/plain": [
       "[1] 17"
      ]
     },
     "metadata": {},
     "output_type": "display_data"
    }
   ],
   "source": [
    "#c)\n",
    "length(arbolado[arbolado$\"espacio_ve\" == \"ARENALES\",])"
   ]
  },
  {
   "cell_type": "code",
   "execution_count": 27,
   "metadata": {},
   "outputs": [
    {
     "name": "stdout",
     "output_type": "stream",
     "text": [
      "'data.frame':\t595 obs. of  17 variables:\n",
      " $ long      : num  -58.5 -58.5 -58.5 -58.5 -58.5 ...\n",
      " $ lat       : num  -34.6 -34.6 -34.6 -34.6 -34.6 ...\n",
      " $ id_arbol  : int  1382 1383 1390 1397 1398 1399 1401 1403 2169 2170 ...\n",
      " $ altura_tot: int  5 4 20 34 34 24 17 4 22 9 ...\n",
      " $ diametro  : int  78 20 50 100 120 83 105 13 92 43 ...\n",
      " $ inclinacio: int  0 0 17 0 0 8 0 10 0 0 ...\n",
      " $ id_especie: int  999 999 330 330 330 330 330 379 330 330 ...\n",
      " $ nombre_com: Factor w/ 337 levels \"Abedul blanco\",..: 236 236 146 146 146 146 146 89 146 146 ...\n",
      " $ nombre_cie: Factor w/ 358 levels \"Abutilon grandifolium\",..: 219 219 136 136 136 136 136 63 136 136 ...\n",
      " $ tipo_folla: Factor w/ 10 levels \"Árbol Conífero Caducifolio\",..: 9 9 4 4 4 4 4 2 4 4 ...\n",
      " $ espacio_ve: Factor w/ 583 levels \"1 DE MARZO DE 1948\",..: 497 497 497 497 497 497 497 497 497 497 ...\n",
      " $ ubicacion : Factor w/ 775 levels \"\",\"20 DE SEPTIEMBRE - DON PEDRO DE MENDOZA, AV. - ARZOBISPO ESPINOSA - CABOTO\",..: 374 374 374 374 374 374 374 374 374 374 ...\n",
      " $ nombre_fam: Factor w/ 70 levels \"Aceráceas\",\"Adoxaceae\",..: 44 44 40 40 40 40 40 48 40 40 ...\n",
      " $ nombre_gen: Factor w/ 173 levels \"Abutilon\",\"Acacia\",..: 106 106 61 61 61 61 61 32 61 61 ...\n",
      " $ origen    : Factor w/ 3 levels \"Exótico\",\"Nativo/Autóctono\",..: 3 3 1 1 1 1 1 1 1 1 ...\n",
      " $ coord_x   : num  98529 98422 98667 98560 98381 ...\n",
      " $ coord_y   : num  108593 108581 108718 108690 108784 ...\n"
     ]
    }
   ],
   "source": [
    "#d) print(sort(unique(arbolado$\"espacio_ve\")))\n",
    "arboles_favoritos = data.frame(arbolado[arbolado$\"espacio_ve\" == \"SAAVEDRA, CORNELIO de, Brig. Gral.\",])\n",
    "str(arboles_favoritos)"
   ]
  },
  {
   "cell_type": "code",
   "execution_count": 28,
   "metadata": {},
   "outputs": [
    {
     "name": "stdout",
     "output_type": "stream",
     "text": [
      " [1] No Determinable                                     \n",
      " [2] Eucalipto                                           \n",
      " [3] Cedro                                               \n",
      " [4] Washingtonia (Palmera washingtonia)                 \n",
      " [5] Casuarina                                           \n",
      " [6] Sófora japónica                                     \n",
      " [7] Brachichiton (Árbol botella, Brachichito)           \n",
      " [8] Limonero                                            \n",
      " [9] Pino                                                \n",
      "[10] Ficus                                               \n",
      "[11] Árbol del cielo (Ailanto o Árbol de los dioses)     \n",
      "[12] Plátano                                             \n",
      "[13] Álamo carolina                                      \n",
      "[14] Alcanforero                                         \n",
      "[15] Ciprés                                              \n",
      "[16] Fresno americano                                    \n",
      "[17] Arce negundo                                        \n",
      "[18] Palo borracho rosado                                \n",
      "[19] Cedro del Himalaya                                  \n",
      "[20] Pindó                                               \n",
      "[21] Tilo                                                \n",
      "[22] Almez (Almecino o Almecina)                         \n",
      "[23] Roble palustre                                      \n",
      "[24] Álamo negro                                         \n",
      "[25] Tipa blanca                                         \n",
      "[26] Limpiatubos                                         \n",
      "[27] Nogal criollo                                       \n",
      "[28] Rosa de Siria                                       \n",
      "[29] Ombú                                                \n",
      "[30] Sauce criollo                                       \n",
      "[31] Jacarandá                                           \n",
      "[32] Falso cafeto                                        \n",
      "[33] Ginkgo                                              \n",
      "[34] Corona de cristo                                    \n",
      "[35] Ligustro                                            \n",
      "[36] Fenix                                               \n",
      "[37] Rosa de China (Hibisco)                             \n",
      "[38] Aesculus                                            \n",
      "[39] Morera blanca                                       \n",
      "[40] Gomero                                              \n",
      "[41] Bunya-bunya (Araucaria de Bidwill)                  \n",
      "[42] Acacia bola                                         \n",
      "[43] Macrocarpa (Ciprés de Monterrey o Ciprés de Lambert)\n",
      "[44] Sauce eléctrico                                     \n",
      "[45] Tuja                                                \n",
      "[46] Juniperus                                           \n",
      "[47] Visco (Viscote, Arca)                               \n",
      "[48] Laurel                                              \n",
      "[49] Paraíso                                             \n",
      "[50] Ibirá pitá                                          \n",
      "[51] Coculus, Cóculo                                     \n",
      "[52] Araucaria (Araucaria de pisos)                      \n",
      "[53] Palo borracho                                       \n",
      "[54] Olmo                                                \n",
      "[55] Palmera china                                       \n",
      "[56] Fresno (Fresno común)                               \n",
      "[57] Eucalipto sideroxylon                               \n",
      "[58] Álamo de Italia                                     \n",
      "[59] Palo borracho blanco                                \n",
      "[60] Álamo                                               \n",
      "[61] Palma de california                                 \n",
      "[62] Mimosa (Aromo francés)                              \n",
      "[63] Magnolia                                            \n",
      "[64] Kauri de corteza lisa                               \n",
      "[65] Ceibo                                               \n",
      "[66] Tuya oriental                                       \n",
      "[67] Arrayán (Anacahuita)                                \n",
      "[68] No Determinado                                      \n",
      "[69] Eucalipto cinerea                                   \n",
      "[70] Níspero japonés                                     \n",
      "[71] Palto                                               \n",
      "[72] Aguaribay                                           \n",
      "337 Levels: Abedul blanco ... Yuca\n"
     ]
    }
   ],
   "source": [
    "#e)\n",
    "print(unique(arboles_favoritos$\"nombre_com\"))"
   ]
  },
  {
   "cell_type": "markdown",
   "metadata": {},
   "source": [
    "## Ejercicio 7"
   ]
  },
  {
   "cell_type": "code",
   "execution_count": 29,
   "metadata": {},
   "outputs": [],
   "source": [
    "#a)\n",
    "elegir_alumnos = function(m, n){\n",
    "    sample(1:n, m)\n",
    "}"
   ]
  },
  {
   "cell_type": "code",
   "execution_count": 30,
   "metadata": {},
   "outputs": [
    {
     "data": {
      "text/html": [
       "<style>\n",
       ".list-inline {list-style: none; margin:0; padding: 0}\n",
       ".list-inline>li {display: inline-block}\n",
       ".list-inline>li:not(:last-child)::after {content: \"\\00b7\"; padding: 0 .5ex}\n",
       "</style>\n",
       "<ol class=list-inline><li>28</li><li>39</li><li>57</li></ol>\n"
      ],
      "text/latex": [
       "\\begin{enumerate*}\n",
       "\\item 28\n",
       "\\item 39\n",
       "\\item 57\n",
       "\\end{enumerate*}\n"
      ],
      "text/markdown": [
       "1. 28\n",
       "2. 39\n",
       "3. 57\n",
       "\n",
       "\n"
      ],
      "text/plain": [
       "[1] 28 39 57"
      ]
     },
     "metadata": {},
     "output_type": "display_data"
    }
   ],
   "source": [
    "#b)\n",
    "elegir_alumnos(3,80)"
   ]
  },
  {
   "cell_type": "code",
   "execution_count": 31,
   "metadata": {},
   "outputs": [
    {
     "data": {
      "text/html": [
       "<table>\n",
       "<caption>A matrix: 3 × 10 of type int</caption>\n",
       "<tbody>\n",
       "\t<tr><td>32</td><td>57</td><td> 2</td><td>58</td><td>54</td><td>50</td><td>14</td><td>26</td><td>52</td><td>20</td></tr>\n",
       "\t<tr><td>25</td><td>55</td><td>37</td><td>11</td><td>64</td><td>11</td><td>17</td><td>42</td><td>61</td><td>12</td></tr>\n",
       "\t<tr><td>49</td><td>13</td><td>73</td><td>76</td><td>62</td><td>51</td><td>32</td><td>34</td><td>37</td><td>77</td></tr>\n",
       "</tbody>\n",
       "</table>\n"
      ],
      "text/latex": [
       "A matrix: 3 × 10 of type int\n",
       "\\begin{tabular}{llllllllll}\n",
       "\t 32 & 57 &  2 & 58 & 54 & 50 & 14 & 26 & 52 & 20\\\\\n",
       "\t 25 & 55 & 37 & 11 & 64 & 11 & 17 & 42 & 61 & 12\\\\\n",
       "\t 49 & 13 & 73 & 76 & 62 & 51 & 32 & 34 & 37 & 77\\\\\n",
       "\\end{tabular}\n"
      ],
      "text/markdown": [
       "\n",
       "A matrix: 3 × 10 of type int\n",
       "\n",
       "| 32 | 57 |  2 | 58 | 54 | 50 | 14 | 26 | 52 | 20 |\n",
       "| 25 | 55 | 37 | 11 | 64 | 11 | 17 | 42 | 61 | 12 |\n",
       "| 49 | 13 | 73 | 76 | 62 | 51 | 32 | 34 | 37 | 77 |\n",
       "\n"
      ],
      "text/plain": [
       "     [,1] [,2] [,3] [,4] [,5] [,6] [,7] [,8] [,9] [,10]\n",
       "[1,] 32   57    2   58   54   50   14   26   52   20   \n",
       "[2,] 25   55   37   11   64   11   17   42   61   12   \n",
       "[3,] 49   13   73   76   62   51   32   34   37   77   "
      ]
     },
     "metadata": {},
     "output_type": "display_data"
    }
   ],
   "source": [
    "alumnos_elegidos = replicate(10, elegir_alumnos(3,80))\n",
    "alumnos_elegidos"
   ]
  },
  {
   "cell_type": "markdown",
   "metadata": {},
   "source": [
    "## Ejercicio 8"
   ]
  },
  {
   "cell_type": "code",
   "execution_count": 32,
   "metadata": {},
   "outputs": [
    {
     "name": "stderr",
     "output_type": "stream",
     "text": [
      "Loading required package: lattice\n",
      "\n",
      "Loading required package: ggplot2\n",
      "\n"
     ]
    },
    {
     "name": "stdout",
     "output_type": "stream",
     "text": [
      "'data.frame':\t1309 obs. of  14 variables:\n",
      " $ pclass   : Factor w/ 3 levels \"1st\",\"2nd\",\"3rd\": 1 1 1 1 1 1 1 1 1 1 ...\n",
      " $ survived : int  1 1 0 0 0 1 1 0 1 0 ...\n",
      " $ name     : Factor w/ 1307 levels \"Abbing, Mr. Anthony\",..: 22 24 25 26 27 31 46 47 51 55 ...\n",
      " $ sex      : Factor w/ 2 levels \"female\",\"male\": 1 2 1 2 1 2 1 2 1 2 ...\n",
      " $ age      : num  29 0.917 2 30 25 ...\n",
      " $ sibsp    : int  0 1 1 1 1 0 1 0 2 0 ...\n",
      " $ parch    : int  0 2 2 2 2 0 0 0 0 0 ...\n",
      " $ ticket   : Factor w/ 929 levels \"110152\",\"110413\",..: 188 50 50 50 50 125 93 16 77 826 ...\n",
      " $ fare     : num  211 152 152 152 152 ...\n",
      " $ cabin    : Factor w/ 187 levels \"\",\"A10\",\"A11\",..: 45 81 81 81 81 151 147 17 63 1 ...\n",
      " $ embarked : Factor w/ 4 levels \"\",\"Cherbourg\",..: 4 4 4 4 4 4 4 4 4 2 ...\n",
      " $ boat     : Factor w/ 28 levels \"\",\"1\",\"10\",\"11\",..: 13 4 1 1 1 14 3 1 28 1 ...\n",
      " $ body     : int  NA NA NA 135 NA NA NA NA NA 22 ...\n",
      " $ home.dest: Factor w/ 369 levels \"\",\"?Havana, Cuba\",..: 309 231 231 231 231 237 163 25 23 229 ...\n"
     ]
    }
   ],
   "source": [
    "#install.packages(\"PASWR2\")\n",
    "library(\"PASWR2\")\n",
    "str(TITANIC3)"
   ]
  },
  {
   "cell_type": "code",
   "execution_count": 33,
   "metadata": {},
   "outputs": [
    {
     "data": {
      "text/html": [
       "<table>\n",
       "<caption>A data.frame: 3 × 2</caption>\n",
       "<thead>\n",
       "\t<tr><th scope=col>Group.1</th><th scope=col>x</th></tr>\n",
       "\t<tr><th scope=col>&lt;fct&gt;</th><th scope=col>&lt;dbl&gt;</th></tr>\n",
       "</thead>\n",
       "<tbody>\n",
       "\t<tr><td>1st</td><td>0.6191950</td></tr>\n",
       "\t<tr><td>2nd</td><td>0.4296029</td></tr>\n",
       "\t<tr><td>3rd</td><td>0.2552891</td></tr>\n",
       "</tbody>\n",
       "</table>\n"
      ],
      "text/latex": [
       "A data.frame: 3 × 2\n",
       "\\begin{tabular}{ll}\n",
       " Group.1 & x\\\\\n",
       " <fct> & <dbl>\\\\\n",
       "\\hline\n",
       "\t 1st & 0.6191950\\\\\n",
       "\t 2nd & 0.4296029\\\\\n",
       "\t 3rd & 0.2552891\\\\\n",
       "\\end{tabular}\n"
      ],
      "text/markdown": [
       "\n",
       "A data.frame: 3 × 2\n",
       "\n",
       "| Group.1 &lt;fct&gt; | x &lt;dbl&gt; |\n",
       "|---|---|\n",
       "| 1st | 0.6191950 |\n",
       "| 2nd | 0.4296029 |\n",
       "| 3rd | 0.2552891 |\n",
       "\n"
      ],
      "text/plain": [
       "  Group.1 x        \n",
       "1 1st     0.6191950\n",
       "2 2nd     0.4296029\n",
       "3 3rd     0.2552891"
      ]
     },
     "metadata": {},
     "output_type": "display_data"
    }
   ],
   "source": [
    "#a)\n",
    "aggregate(TITANIC3$survived, by=list(TITANIC3$pclass), FUN=mean)"
   ]
  },
  {
   "cell_type": "code",
   "execution_count": 34,
   "metadata": {},
   "outputs": [
    {
     "data": {
      "text/html": [
       "<table>\n",
       "<caption>A data.frame: 6 × 3</caption>\n",
       "<thead>\n",
       "\t<tr><th scope=col>Group.1</th><th scope=col>Group.2</th><th scope=col>x</th></tr>\n",
       "\t<tr><th scope=col>&lt;fct&gt;</th><th scope=col>&lt;fct&gt;</th><th scope=col>&lt;dbl&gt;</th></tr>\n",
       "</thead>\n",
       "<tbody>\n",
       "\t<tr><td>1st</td><td>female</td><td>0.9652778</td></tr>\n",
       "\t<tr><td>2nd</td><td>female</td><td>0.8867925</td></tr>\n",
       "\t<tr><td>3rd</td><td>female</td><td>0.4907407</td></tr>\n",
       "\t<tr><td>1st</td><td>male  </td><td>0.3407821</td></tr>\n",
       "\t<tr><td>2nd</td><td>male  </td><td>0.1461988</td></tr>\n",
       "\t<tr><td>3rd</td><td>male  </td><td>0.1521298</td></tr>\n",
       "</tbody>\n",
       "</table>\n"
      ],
      "text/latex": [
       "A data.frame: 6 × 3\n",
       "\\begin{tabular}{lll}\n",
       " Group.1 & Group.2 & x\\\\\n",
       " <fct> & <fct> & <dbl>\\\\\n",
       "\\hline\n",
       "\t 1st & female & 0.9652778\\\\\n",
       "\t 2nd & female & 0.8867925\\\\\n",
       "\t 3rd & female & 0.4907407\\\\\n",
       "\t 1st & male   & 0.3407821\\\\\n",
       "\t 2nd & male   & 0.1461988\\\\\n",
       "\t 3rd & male   & 0.1521298\\\\\n",
       "\\end{tabular}\n"
      ],
      "text/markdown": [
       "\n",
       "A data.frame: 6 × 3\n",
       "\n",
       "| Group.1 &lt;fct&gt; | Group.2 &lt;fct&gt; | x &lt;dbl&gt; |\n",
       "|---|---|---|\n",
       "| 1st | female | 0.9652778 |\n",
       "| 2nd | female | 0.8867925 |\n",
       "| 3rd | female | 0.4907407 |\n",
       "| 1st | male   | 0.3407821 |\n",
       "| 2nd | male   | 0.1461988 |\n",
       "| 3rd | male   | 0.1521298 |\n",
       "\n"
      ],
      "text/plain": [
       "  Group.1 Group.2 x        \n",
       "1 1st     female  0.9652778\n",
       "2 2nd     female  0.8867925\n",
       "3 3rd     female  0.4907407\n",
       "4 1st     male    0.3407821\n",
       "5 2nd     male    0.1461988\n",
       "6 3rd     male    0.1521298"
      ]
     },
     "metadata": {},
     "output_type": "display_data"
    }
   ],
   "source": [
    "#b) \n",
    "aggregate(TITANIC3$survived, by=list(TITANIC3$pclass, TITANIC3$sex), FUN=mean)"
   ]
  },
  {
   "cell_type": "code",
   "execution_count": 35,
   "metadata": {},
   "outputs": [
    {
     "data": {
      "image/png": "[encoded data removed]",
      "text/plain": [
       "Plot with title “Histogram of TITANIC3$age”"
      ]
     },
     "metadata": {
      "image/png": {
       "height": 420,
       "width": 420
      },
      "text/plain": {
       "height": 420,
       "width": 420
      }
     },
     "output_type": "display_data"
    }
   ],
   "source": [
    "#c)\n",
    "hist(TITANIC3$age, col=\"blue\", breaks = seq(0,80,5))\n",
    "# como cambio los ticks del eje x?"
   ]
  },
  {
   "cell_type": "code",
   "execution_count": 36,
   "metadata": {},
   "outputs": [
    {
     "data": {
      "text/html": [
       "0.166700006"
      ],
      "text/latex": [
       "0.166700006"
      ],
      "text/markdown": [
       "0.166700006"
      ],
      "text/plain": [
       "[1] 0.1667"
      ]
     },
     "metadata": {},
     "output_type": "display_data"
    }
   ],
   "source": [
    "#d)\n",
    "min(TITANIC3[TITANIC3$sex == \"female\" & TITANIC3$survived==1,]$age, na.rm=TRUE)"
   ]
  },
  {
   "cell_type": "code",
   "execution_count": 37,
   "metadata": {},
   "outputs": [
    {
     "data": {
      "text/html": [
       "29"
      ],
      "text/latex": [
       "29"
      ],
      "text/markdown": [
       "29"
      ],
      "text/plain": [
       "[1] 29"
      ]
     },
     "metadata": {},
     "output_type": "display_data"
    }
   ],
   "source": [
    "#g?) solo sobrevivieron personas de 29 años?\n",
    "unique(TITANIC3[TITANIC3$survived,]$age)"
   ]
  },
  {
   "cell_type": "markdown",
   "metadata": {},
   "source": [
    "## Ejercicio 9\n",
    "**No sé si se puede usar dplyr para esta práctica pero lo voy a hacer para el último ej**"
   ]
  },
  {
   "cell_type": "code",
   "execution_count": 38,
   "metadata": {},
   "outputs": [
    {
     "name": "stderr",
     "output_type": "stream",
     "text": [
      "\n",
      "Attaching package: ‘dplyr’\n",
      "\n",
      "\n",
      "The following objects are masked from ‘package:stats’:\n",
      "\n",
      "    filter, lag\n",
      "\n",
      "\n",
      "The following objects are masked from ‘package:base’:\n",
      "\n",
      "    intersect, setdiff, setequal, union\n",
      "\n",
      "\n"
     ]
    }
   ],
   "source": [
    "#install.packages(\"dplyr\")\n",
    "library(\"dplyr\")"
   ]
  },
  {
   "cell_type": "code",
   "execution_count": 39,
   "metadata": {},
   "outputs": [
    {
     "name": "stdout",
     "output_type": "stream",
     "text": [
      "'data.frame':\t25 obs. of  4 variables:\n",
      " $ country   : Factor w/ 25 levels \"Austria\",\"Belgium\",..: 2 4 5 9 6 10 23 8 12 13 ...\n",
      " $ cars      : int  467 373 354 546 350 348 454 491 385 581 ...\n",
      " $ deaths    : int  112 135 68 71 126 147 112 92 94 97 ...\n",
      " $ population: int  10396 10212 5398 82532 1351 11041 42345 59901 4028 57888 ...\n"
     ]
    }
   ],
   "source": [
    "str(CARS2004)"
   ]
  },
  {
   "cell_type": "code",
   "execution_count": 40,
   "metadata": {},
   "outputs": [
    {
     "data": {
      "text/html": [
       "<table>\n",
       "<caption>A grouped_df: 25 × 2</caption>\n",
       "<thead>\n",
       "\t<tr><th scope=col>country</th><th scope=col>cars</th></tr>\n",
       "\t<tr><th scope=col>&lt;fct&gt;</th><th scope=col>&lt;int&gt;</th></tr>\n",
       "</thead>\n",
       "<tbody>\n",
       "\t<tr><td>Belgium       </td><td>467</td></tr>\n",
       "\t<tr><td>Czech Republic</td><td>373</td></tr>\n",
       "\t<tr><td>Denmark       </td><td>354</td></tr>\n",
       "\t<tr><td>Germany       </td><td>546</td></tr>\n",
       "\t<tr><td>Estonia       </td><td>350</td></tr>\n",
       "\t<tr><td>Greece        </td><td>348</td></tr>\n",
       "\t<tr><td>Spain         </td><td>454</td></tr>\n",
       "\t<tr><td>France        </td><td>491</td></tr>\n",
       "\t<tr><td>Ireland       </td><td>385</td></tr>\n",
       "\t<tr><td>Italy         </td><td>581</td></tr>\n",
       "\t<tr><td>Cyprus        </td><td>448</td></tr>\n",
       "\t<tr><td>Latvia        </td><td>297</td></tr>\n",
       "\t<tr><td>Lithuania     </td><td>384</td></tr>\n",
       "\t<tr><td>Luxembourg    </td><td>659</td></tr>\n",
       "\t<tr><td>Hungary       </td><td>280</td></tr>\n",
       "\t<tr><td>Malta         </td><td>525</td></tr>\n",
       "\t<tr><td>Netherlands   </td><td>429</td></tr>\n",
       "\t<tr><td>Austria       </td><td>501</td></tr>\n",
       "\t<tr><td>Poland        </td><td>314</td></tr>\n",
       "\t<tr><td>Portugal      </td><td>572</td></tr>\n",
       "\t<tr><td>Slovenia      </td><td>456</td></tr>\n",
       "\t<tr><td>Slovakia      </td><td>222</td></tr>\n",
       "\t<tr><td>Finland       </td><td>448</td></tr>\n",
       "\t<tr><td>Sweden        </td><td>456</td></tr>\n",
       "\t<tr><td>United Kingdom</td><td>463</td></tr>\n",
       "</tbody>\n",
       "</table>\n"
      ],
      "text/latex": [
       "A grouped\\_df: 25 × 2\n",
       "\\begin{tabular}{ll}\n",
       " country & cars\\\\\n",
       " <fct> & <int>\\\\\n",
       "\\hline\n",
       "\t Belgium        & 467\\\\\n",
       "\t Czech Republic & 373\\\\\n",
       "\t Denmark        & 354\\\\\n",
       "\t Germany        & 546\\\\\n",
       "\t Estonia        & 350\\\\\n",
       "\t Greece         & 348\\\\\n",
       "\t Spain          & 454\\\\\n",
       "\t France         & 491\\\\\n",
       "\t Ireland        & 385\\\\\n",
       "\t Italy          & 581\\\\\n",
       "\t Cyprus         & 448\\\\\n",
       "\t Latvia         & 297\\\\\n",
       "\t Lithuania      & 384\\\\\n",
       "\t Luxembourg     & 659\\\\\n",
       "\t Hungary        & 280\\\\\n",
       "\t Malta          & 525\\\\\n",
       "\t Netherlands    & 429\\\\\n",
       "\t Austria        & 501\\\\\n",
       "\t Poland         & 314\\\\\n",
       "\t Portugal       & 572\\\\\n",
       "\t Slovenia       & 456\\\\\n",
       "\t Slovakia       & 222\\\\\n",
       "\t Finland        & 448\\\\\n",
       "\t Sweden         & 456\\\\\n",
       "\t United Kingdom & 463\\\\\n",
       "\\end{tabular}\n"
      ],
      "text/markdown": [
       "\n",
       "A grouped_df: 25 × 2\n",
       "\n",
       "| country &lt;fct&gt; | cars &lt;int&gt; |\n",
       "|---|---|\n",
       "| Belgium        | 467 |\n",
       "| Czech Republic | 373 |\n",
       "| Denmark        | 354 |\n",
       "| Germany        | 546 |\n",
       "| Estonia        | 350 |\n",
       "| Greece         | 348 |\n",
       "| Spain          | 454 |\n",
       "| France         | 491 |\n",
       "| Ireland        | 385 |\n",
       "| Italy          | 581 |\n",
       "| Cyprus         | 448 |\n",
       "| Latvia         | 297 |\n",
       "| Lithuania      | 384 |\n",
       "| Luxembourg     | 659 |\n",
       "| Hungary        | 280 |\n",
       "| Malta          | 525 |\n",
       "| Netherlands    | 429 |\n",
       "| Austria        | 501 |\n",
       "| Poland         | 314 |\n",
       "| Portugal       | 572 |\n",
       "| Slovenia       | 456 |\n",
       "| Slovakia       | 222 |\n",
       "| Finland        | 448 |\n",
       "| Sweden         | 456 |\n",
       "| United Kingdom | 463 |\n",
       "\n"
      ],
      "text/plain": [
       "   country        cars\n",
       "1  Belgium        467 \n",
       "2  Czech Republic 373 \n",
       "3  Denmark        354 \n",
       "4  Germany        546 \n",
       "5  Estonia        350 \n",
       "6  Greece         348 \n",
       "7  Spain          454 \n",
       "8  France         491 \n",
       "9  Ireland        385 \n",
       "10 Italy          581 \n",
       "11 Cyprus         448 \n",
       "12 Latvia         297 \n",
       "13 Lithuania      384 \n",
       "14 Luxembourg     659 \n",
       "15 Hungary        280 \n",
       "16 Malta          525 \n",
       "17 Netherlands    429 \n",
       "18 Austria        501 \n",
       "19 Poland         314 \n",
       "20 Portugal       572 \n",
       "21 Slovenia       456 \n",
       "22 Slovakia       222 \n",
       "23 Finland        448 \n",
       "24 Sweden         456 \n",
       "25 United Kingdom 463 "
      ]
     },
     "metadata": {},
     "output_type": "display_data"
    }
   ],
   "source": [
    "#a)\n",
    "group_by(CARS2004,country)[,(1:2)]"
   ]
  },
  {
   "cell_type": "code",
   "execution_count": 41,
   "metadata": {},
   "outputs": [
    {
     "data": {
      "text/html": [
       "<table>\n",
       "<caption>A tibble: 25 × 2</caption>\n",
       "<thead>\n",
       "\t<tr><th scope=col>country</th><th scope=col>tdm</th></tr>\n",
       "\t<tr><th scope=col>&lt;fct&gt;</th><th scope=col>&lt;dbl&gt;</th></tr>\n",
       "</thead>\n",
       "<tbody>\n",
       "\t<tr><td>Austria       </td><td>0.21556886</td></tr>\n",
       "\t<tr><td>Belgium       </td><td>0.23982869</td></tr>\n",
       "\t<tr><td>Cyprus        </td><td>0.35714286</td></tr>\n",
       "\t<tr><td>Czech Republic</td><td>0.36193029</td></tr>\n",
       "\t<tr><td>Denmark       </td><td>0.19209040</td></tr>\n",
       "\t<tr><td>Estonia       </td><td>0.36000000</td></tr>\n",
       "\t<tr><td>Finland       </td><td>0.16071429</td></tr>\n",
       "\t<tr><td>France        </td><td>0.18737271</td></tr>\n",
       "\t<tr><td>Germany       </td><td>0.13003663</td></tr>\n",
       "\t<tr><td>Greece        </td><td>0.42241379</td></tr>\n",
       "\t<tr><td>Hungary       </td><td>0.45714286</td></tr>\n",
       "\t<tr><td>Ireland       </td><td>0.24415584</td></tr>\n",
       "\t<tr><td>Italy         </td><td>0.16695353</td></tr>\n",
       "\t<tr><td>Latvia        </td><td>0.74747475</td></tr>\n",
       "\t<tr><td>Lithuania     </td><td>0.56770833</td></tr>\n",
       "\t<tr><td>Luxembourg    </td><td>0.16540212</td></tr>\n",
       "\t<tr><td>Malta         </td><td>0.06285714</td></tr>\n",
       "\t<tr><td>Netherlands   </td><td>0.11421911</td></tr>\n",
       "\t<tr><td>Poland        </td><td>0.47770701</td></tr>\n",
       "\t<tr><td>Portugal      </td><td>0.21678322</td></tr>\n",
       "\t<tr><td>Slovakia      </td><td>0.50450450</td></tr>\n",
       "\t<tr><td>Slovenia      </td><td>0.30043860</td></tr>\n",
       "\t<tr><td>Spain         </td><td>0.24669604</td></tr>\n",
       "\t<tr><td>Sweden        </td><td>0.11622807</td></tr>\n",
       "\t<tr><td>United Kingdom</td><td>0.12095032</td></tr>\n",
       "</tbody>\n",
       "</table>\n"
      ],
      "text/latex": [
       "A tibble: 25 × 2\n",
       "\\begin{tabular}{ll}\n",
       " country & tdm\\\\\n",
       " <fct> & <dbl>\\\\\n",
       "\\hline\n",
       "\t Austria        & 0.21556886\\\\\n",
       "\t Belgium        & 0.23982869\\\\\n",
       "\t Cyprus         & 0.35714286\\\\\n",
       "\t Czech Republic & 0.36193029\\\\\n",
       "\t Denmark        & 0.19209040\\\\\n",
       "\t Estonia        & 0.36000000\\\\\n",
       "\t Finland        & 0.16071429\\\\\n",
       "\t France         & 0.18737271\\\\\n",
       "\t Germany        & 0.13003663\\\\\n",
       "\t Greece         & 0.42241379\\\\\n",
       "\t Hungary        & 0.45714286\\\\\n",
       "\t Ireland        & 0.24415584\\\\\n",
       "\t Italy          & 0.16695353\\\\\n",
       "\t Latvia         & 0.74747475\\\\\n",
       "\t Lithuania      & 0.56770833\\\\\n",
       "\t Luxembourg     & 0.16540212\\\\\n",
       "\t Malta          & 0.06285714\\\\\n",
       "\t Netherlands    & 0.11421911\\\\\n",
       "\t Poland         & 0.47770701\\\\\n",
       "\t Portugal       & 0.21678322\\\\\n",
       "\t Slovakia       & 0.50450450\\\\\n",
       "\t Slovenia       & 0.30043860\\\\\n",
       "\t Spain          & 0.24669604\\\\\n",
       "\t Sweden         & 0.11622807\\\\\n",
       "\t United Kingdom & 0.12095032\\\\\n",
       "\\end{tabular}\n"
      ],
      "text/markdown": [
       "\n",
       "A tibble: 25 × 2\n",
       "\n",
       "| country &lt;fct&gt; | tdm &lt;dbl&gt; |\n",
       "|---|---|\n",
       "| Austria        | 0.21556886 |\n",
       "| Belgium        | 0.23982869 |\n",
       "| Cyprus         | 0.35714286 |\n",
       "| Czech Republic | 0.36193029 |\n",
       "| Denmark        | 0.19209040 |\n",
       "| Estonia        | 0.36000000 |\n",
       "| Finland        | 0.16071429 |\n",
       "| France         | 0.18737271 |\n",
       "| Germany        | 0.13003663 |\n",
       "| Greece         | 0.42241379 |\n",
       "| Hungary        | 0.45714286 |\n",
       "| Ireland        | 0.24415584 |\n",
       "| Italy          | 0.16695353 |\n",
       "| Latvia         | 0.74747475 |\n",
       "| Lithuania      | 0.56770833 |\n",
       "| Luxembourg     | 0.16540212 |\n",
       "| Malta          | 0.06285714 |\n",
       "| Netherlands    | 0.11421911 |\n",
       "| Poland         | 0.47770701 |\n",
       "| Portugal       | 0.21678322 |\n",
       "| Slovakia       | 0.50450450 |\n",
       "| Slovenia       | 0.30043860 |\n",
       "| Spain          | 0.24669604 |\n",
       "| Sweden         | 0.11622807 |\n",
       "| United Kingdom | 0.12095032 |\n",
       "\n"
      ],
      "text/plain": [
       "   country        tdm       \n",
       "1  Austria        0.21556886\n",
       "2  Belgium        0.23982869\n",
       "3  Cyprus         0.35714286\n",
       "4  Czech Republic 0.36193029\n",
       "5  Denmark        0.19209040\n",
       "6  Estonia        0.36000000\n",
       "7  Finland        0.16071429\n",
       "8  France         0.18737271\n",
       "9  Germany        0.13003663\n",
       "10 Greece         0.42241379\n",
       "11 Hungary        0.45714286\n",
       "12 Ireland        0.24415584\n",
       "13 Italy          0.16695353\n",
       "14 Latvia         0.74747475\n",
       "15 Lithuania      0.56770833\n",
       "16 Luxembourg     0.16540212\n",
       "17 Malta          0.06285714\n",
       "18 Netherlands    0.11421911\n",
       "19 Poland         0.47770701\n",
       "20 Portugal       0.21678322\n",
       "21 Slovakia       0.50450450\n",
       "22 Slovenia       0.30043860\n",
       "23 Spain          0.24669604\n",
       "24 Sweden         0.11622807\n",
       "25 United Kingdom 0.12095032"
      ]
     },
     "metadata": {},
     "output_type": "display_data"
    }
   ],
   "source": [
    "#b) tdm = tasa de mortalidad \n",
    "mortalidad = group_by(CARS2004, country) %>%\n",
    "summarise(tdm = deaths/cars)\n",
    "mortalidad"
   ]
  },
  {
   "cell_type": "code",
   "execution_count": 42,
   "metadata": {},
   "outputs": [
    {
     "data": {
      "image/png": "[encoded data removed]",
      "text/plain": [
       "plot without title"
      ]
     },
     "metadata": {
      "image/png": {
       "height": 420,
       "width": 420
      },
      "text/plain": {
       "height": 420,
       "width": 420
      }
     },
     "output_type": "display_data"
    }
   ],
   "source": [
    "#c)\n",
    "mortalidad = mortalidad[order(mortalidad$tdm),]\n",
    "barplot(mortalidad$tdm, names.arg = mortalidad$country)"
   ]
  },
  {
   "cell_type": "code",
   "execution_count": 43,
   "metadata": {},
   "outputs": [
    {
     "name": "stdout",
     "output_type": "stream",
     "text": [
      "[1] \"menor\"\n"
     ]
    },
    {
     "data": {
      "text/html": [
       "Malta\n",
       "<details>\n",
       "\t<summary style=display:list-item;cursor:pointer>\n",
       "\t\t<strong>Levels</strong>:\n",
       "\t</summary>\n",
       "\t<style>\n",
       "\t.list-inline {list-style: none; margin:0; padding: 0}\n",
       "\t.list-inline>li {display: inline-block}\n",
       "\t.list-inline>li:not(:last-child)::after {content: \"\\00b7\"; padding: 0 .5ex}\n",
       "\t</style>\n",
       "\t<ol class=list-inline><li>'Austria'</li><li>'Belgium'</li><li>'Cyprus'</li><li>'Czech Republic'</li><li>'Denmark'</li><li>'Estonia'</li><li>'Finland'</li><li>'France'</li><li>'Germany'</li><li>'Greece'</li><li>'Hungary'</li><li>'Ireland'</li><li>'Italy'</li><li>'Latvia'</li><li>'Lithuania'</li><li>'Luxembourg'</li><li>'Malta'</li><li>'Netherlands'</li><li>'Poland'</li><li>'Portugal'</li><li>'Slovakia'</li><li>'Slovenia'</li><li>'Spain'</li><li>'Sweden'</li><li>'United Kingdom'</li></ol>\n",
       "</details>"
      ],
      "text/latex": [
       "Malta\n",
       "\\emph{Levels}: \\begin{enumerate*}\n",
       "\\item 'Austria'\n",
       "\\item 'Belgium'\n",
       "\\item 'Cyprus'\n",
       "\\item 'Czech Republic'\n",
       "\\item 'Denmark'\n",
       "\\item 'Estonia'\n",
       "\\item 'Finland'\n",
       "\\item 'France'\n",
       "\\item 'Germany'\n",
       "\\item 'Greece'\n",
       "\\item 'Hungary'\n",
       "\\item 'Ireland'\n",
       "\\item 'Italy'\n",
       "\\item 'Latvia'\n",
       "\\item 'Lithuania'\n",
       "\\item 'Luxembourg'\n",
       "\\item 'Malta'\n",
       "\\item 'Netherlands'\n",
       "\\item 'Poland'\n",
       "\\item 'Portugal'\n",
       "\\item 'Slovakia'\n",
       "\\item 'Slovenia'\n",
       "\\item 'Spain'\n",
       "\\item 'Sweden'\n",
       "\\item 'United Kingdom'\n",
       "\\end{enumerate*}\n"
      ],
      "text/markdown": [
       "Malta\n",
       "**Levels**: 1. 'Austria'\n",
       "2. 'Belgium'\n",
       "3. 'Cyprus'\n",
       "4. 'Czech Republic'\n",
       "5. 'Denmark'\n",
       "6. 'Estonia'\n",
       "7. 'Finland'\n",
       "8. 'France'\n",
       "9. 'Germany'\n",
       "10. 'Greece'\n",
       "11. 'Hungary'\n",
       "12. 'Ireland'\n",
       "13. 'Italy'\n",
       "14. 'Latvia'\n",
       "15. 'Lithuania'\n",
       "16. 'Luxembourg'\n",
       "17. 'Malta'\n",
       "18. 'Netherlands'\n",
       "19. 'Poland'\n",
       "20. 'Portugal'\n",
       "21. 'Slovakia'\n",
       "22. 'Slovenia'\n",
       "23. 'Spain'\n",
       "24. 'Sweden'\n",
       "25. 'United Kingdom'\n",
       "\n",
       "\n"
      ],
      "text/plain": [
       "[1] Malta\n",
       "25 Levels: Austria Belgium Cyprus Czech Republic Denmark Estonia ... United Kingdom"
      ]
     },
     "metadata": {},
     "output_type": "display_data"
    },
    {
     "name": "stdout",
     "output_type": "stream",
     "text": [
      "[1] \"mayor\"\n"
     ]
    },
    {
     "data": {
      "text/html": [
       "Latvia\n",
       "<details>\n",
       "\t<summary style=display:list-item;cursor:pointer>\n",
       "\t\t<strong>Levels</strong>:\n",
       "\t</summary>\n",
       "\t<style>\n",
       "\t.list-inline {list-style: none; margin:0; padding: 0}\n",
       "\t.list-inline>li {display: inline-block}\n",
       "\t.list-inline>li:not(:last-child)::after {content: \"\\00b7\"; padding: 0 .5ex}\n",
       "\t</style>\n",
       "\t<ol class=list-inline><li>'Austria'</li><li>'Belgium'</li><li>'Cyprus'</li><li>'Czech Republic'</li><li>'Denmark'</li><li>'Estonia'</li><li>'Finland'</li><li>'France'</li><li>'Germany'</li><li>'Greece'</li><li>'Hungary'</li><li>'Ireland'</li><li>'Italy'</li><li>'Latvia'</li><li>'Lithuania'</li><li>'Luxembourg'</li><li>'Malta'</li><li>'Netherlands'</li><li>'Poland'</li><li>'Portugal'</li><li>'Slovakia'</li><li>'Slovenia'</li><li>'Spain'</li><li>'Sweden'</li><li>'United Kingdom'</li></ol>\n",
       "</details>"
      ],
      "text/latex": [
       "Latvia\n",
       "\\emph{Levels}: \\begin{enumerate*}\n",
       "\\item 'Austria'\n",
       "\\item 'Belgium'\n",
       "\\item 'Cyprus'\n",
       "\\item 'Czech Republic'\n",
       "\\item 'Denmark'\n",
       "\\item 'Estonia'\n",
       "\\item 'Finland'\n",
       "\\item 'France'\n",
       "\\item 'Germany'\n",
       "\\item 'Greece'\n",
       "\\item 'Hungary'\n",
       "\\item 'Ireland'\n",
       "\\item 'Italy'\n",
       "\\item 'Latvia'\n",
       "\\item 'Lithuania'\n",
       "\\item 'Luxembourg'\n",
       "\\item 'Malta'\n",
       "\\item 'Netherlands'\n",
       "\\item 'Poland'\n",
       "\\item 'Portugal'\n",
       "\\item 'Slovakia'\n",
       "\\item 'Slovenia'\n",
       "\\item 'Spain'\n",
       "\\item 'Sweden'\n",
       "\\item 'United Kingdom'\n",
       "\\end{enumerate*}\n"
      ],
      "text/markdown": [
       "Latvia\n",
       "**Levels**: 1. 'Austria'\n",
       "2. 'Belgium'\n",
       "3. 'Cyprus'\n",
       "4. 'Czech Republic'\n",
       "5. 'Denmark'\n",
       "6. 'Estonia'\n",
       "7. 'Finland'\n",
       "8. 'France'\n",
       "9. 'Germany'\n",
       "10. 'Greece'\n",
       "11. 'Hungary'\n",
       "12. 'Ireland'\n",
       "13. 'Italy'\n",
       "14. 'Latvia'\n",
       "15. 'Lithuania'\n",
       "16. 'Luxembourg'\n",
       "17. 'Malta'\n",
       "18. 'Netherlands'\n",
       "19. 'Poland'\n",
       "20. 'Portugal'\n",
       "21. 'Slovakia'\n",
       "22. 'Slovenia'\n",
       "23. 'Spain'\n",
       "24. 'Sweden'\n",
       "25. 'United Kingdom'\n",
       "\n",
       "\n"
      ],
      "text/plain": [
       "[1] Latvia\n",
       "25 Levels: Austria Belgium Cyprus Czech Republic Denmark Estonia ... United Kingdom"
      ]
     },
     "metadata": {},
     "output_type": "display_data"
    }
   ],
   "source": [
    "#d) menos y mas baja?\n",
    "print(\"menor\")\n",
    "mortalidad[mortalidad$tdm == min(mortalidad$tdm),]$country\n",
    "\n",
    "print(\"mayor\")\n",
    "mortalidad[mortalidad$tdm == max(mortalidad$tdm),]$country"
   ]
  },
  {
   "cell_type": "code",
   "execution_count": 44,
   "metadata": {},
   "outputs": [
    {
     "data": {
      "image/png": "[encoded data removed]",
      "text/plain": [
       "plot without title"
      ]
     },
     "metadata": {
      "image/png": {
       "height": 420,
       "width": 420
      },
      "text/plain": {
       "height": 420,
       "width": 420
      }
     },
     "output_type": "display_data"
    }
   ],
   "source": [
    "#e)\n",
    "plot(CARS2004$cars, CARS2004$population)\n",
    "#todo: hacer algo mejor"
   ]
  },
  {
   "cell_type": "code",
   "execution_count": 45,
   "metadata": {},
   "outputs": [
    {
     "name": "stderr",
     "output_type": "stream",
     "text": [
      "Joining, by = \"country\"\n",
      "\n"
     ]
    },
    {
     "data": {
      "image/png": "[encoded data removed]",
      "text/plain": [
       "plot without title"
      ]
     },
     "metadata": {
      "image/png": {
       "height": 420,
       "width": 420
      },
      "text/plain": {
       "height": 420,
       "width": 420
      }
     },
     "output_type": "display_data"
    }
   ],
   "source": [
    "#f)\n",
    "all_info = inner_join(CARS2004, mortalidad)\n",
    "plot(all_info$cars, all_info$tdm)\n",
    "#todo: hacer algo mejor\n"
   ]
  }
 ],
 "metadata": {
  "kernelspec": {
   "display_name": "R",
   "language": "R",
   "name": "ir"
  },
  "language_info": {
   "codemirror_mode": "r",
   "file_extension": ".r",
   "mimetype": "text/x-r-source",
   "name": "R",
   "pygments_lexer": "r",
   "version": "3.4.4"
  }
 },
 "nbformat": 4,
 "nbformat_minor": 4
}
